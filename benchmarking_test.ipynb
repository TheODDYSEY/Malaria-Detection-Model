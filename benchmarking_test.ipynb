{
 "cells": [
  {
   "cell_type": "code",
   "execution_count": 10,
   "metadata": {},
   "outputs": [],
   "source": [
    "import time\n",
    "import cv2\n",
    "import numpy as np\n",
    "from tensorflow.keras.models import load_model\n",
    "from sklearn.metrics import accuracy_score, precision_score, recall_score, f1_score\n"
   ]
  },
  {
   "cell_type": "code",
   "execution_count": 11,
   "metadata": {},
   "outputs": [],
   "source": [
    "# Load the trained model\n",
    "model = load_model(\"malaria-cell-cnn.h5\")\n"
   ]
  },
  {
   "cell_type": "code",
   "execution_count": 12,
   "metadata": {},
   "outputs": [],
   "source": [
    "# Paths to test images\n",
    "test_images = [\n",
    "    (\"cell_images/testing-samples/C1_thinF_IMG_20150604_104919_cell_82.png\", 0), # uninfected\n",
    "    (\"cell_images/testing-samples/C38P3thinF_original_IMG_20150621_112116_cell_204.png\", 1) # infected\n",
    "]\n"
   ]
  },
  {
   "cell_type": "code",
   "execution_count": 13,
   "metadata": {},
   "outputs": [],
   "source": [
    "# Function to preprocess image\n",
    "def preprocess_image(image_path, img_size=70):\n",
    "    img_arr = cv2.imread(image_path, cv2.IMREAD_GRAYSCALE)\n",
    "    img_resized = cv2.resize(img_arr, (img_size, img_size))\n",
    "    img_resized = img_resized / 255\n",
    "    img_resized = img_resized.reshape(1, img_size, img_size, 1)\n",
    "    return img_resized"
   ]
  },
  {
   "cell_type": "code",
   "execution_count": 14,
   "metadata": {},
   "outputs": [],
   "source": [
    "# Lists to store true labels and predicted labels\n",
    "true_labels = []\n",
    "predicted_labels = []\n"
   ]
  },
  {
   "cell_type": "code",
   "execution_count": 15,
   "metadata": {},
   "outputs": [
    {
     "name": "stdout",
     "output_type": "stream",
     "text": [
      "1/1 [==============================] - 1s 691ms/step\n",
      "Prediction for cell_images/testing-samples/C1_thinF_IMG_20150604_104919_cell_82.png: 0.007813486270606518\n",
      "1/1 [==============================] - 0s 41ms/step\n",
      "Prediction for cell_images/testing-samples/C38P3thinF_original_IMG_20150621_112116_cell_204.png: 0.8808491826057434\n"
     ]
    }
   ],
   "source": [
    "# Benchmarking\n",
    "total_time = 0\n",
    "num_images = len(test_images)\n",
    "\n",
    "for image_path, true_label in test_images:\n",
    "    start_time = time.time()\n",
    "    img_arr = preprocess_image(image_path)\n",
    "    result = model.predict(img_arr)[0][0]\n",
    "    total_time += time.time() - start_time\n",
    "    \n",
    "    # Round the predicted result to 0 or 1\n",
    "    predicted_label = 0 if result < 0.5 else 1\n",
    "    \n",
    "    true_labels.append(true_label)\n",
    "    predicted_labels.append(predicted_label)\n",
    "    \n",
    "    print(f\"Prediction for {image_path}: {result}\")\n"
   ]
  },
  {
   "cell_type": "code",
   "execution_count": 16,
   "metadata": {},
   "outputs": [
    {
     "name": "stdout",
     "output_type": "stream",
     "text": [
      "Average time per image: 0.4946383237838745 seconds\n"
     ]
    }
   ],
   "source": [
    "average_time_per_image = total_time / num_images\n",
    "print(f\"Average time per image: {average_time_per_image} seconds\")\n"
   ]
  },
  {
   "cell_type": "code",
   "execution_count": 17,
   "metadata": {},
   "outputs": [
    {
     "name": "stdout",
     "output_type": "stream",
     "text": [
      "Accuracy: 1.0\n",
      "Precision: 1.0\n",
      "Recall: 1.0\n",
      "F1 Score: 1.0\n"
     ]
    }
   ],
   "source": [
    "# Calculate evaluation metrics\n",
    "accuracy = accuracy_score(true_labels, predicted_labels)\n",
    "precision = precision_score(true_labels, predicted_labels)\n",
    "recall = recall_score(true_labels, predicted_labels)\n",
    "f1 = f1_score(true_labels, predicted_labels)\n",
    "\n",
    "print(f\"Accuracy: {accuracy}\")\n",
    "print(f\"Precision: {precision}\")\n",
    "print(f\"Recall: {recall}\")\n",
    "print(f\"F1 Score: {f1}\")"
   ]
  },
  {
   "cell_type": "code",
   "execution_count": null,
   "metadata": {},
   "outputs": [],
   "source": []
  }
 ],
 "metadata": {
  "kernelspec": {
   "display_name": "Python 3",
   "language": "python",
   "name": "python3"
  },
  "language_info": {
   "codemirror_mode": {
    "name": "ipython",
    "version": 3
   },
   "file_extension": ".py",
   "mimetype": "text/x-python",
   "name": "python",
   "nbconvert_exporter": "python",
   "pygments_lexer": "ipython3",
   "version": "3.11.3"
  }
 },
 "nbformat": 4,
 "nbformat_minor": 2
}
